{
 "cells": [
  {
   "cell_type": "code",
   "execution_count": 45,
   "metadata": {},
   "outputs": [],
   "source": [
    "import numpy as np"
   ]
  },
  {
   "cell_type": "code",
   "execution_count": 2,
   "metadata": {},
   "outputs": [
    {
     "data": {
      "text/plain": [
       "'{ \"a\": \"Mozilla\\\\/5.0 (Linux; U; Android 4.1.2; en-us; HTC_PN071 Build\\\\/JZO54K) AppleWebKit\\\\/534.30 (KHTML, like Gecko) Version\\\\/4.0 Mobile Safari\\\\/534.30\", \"c\": \"US\", \"nk\": 0, \"tz\": \"America\\\\/Los_Angeles\", \"gr\": \"CA\", \"g\": \"15r91\", \"h\": \"10OBm3W\", \"l\": \"pontifier\", \"al\": \"en-US\", \"hh\": \"j.mp\", \"r\": \"direct\", \"u\": \"http:\\\\/\\\\/www.nsa.gov\\\\/\", \"t\": 1368832205, \"hc\": 1365701422, \"cy\": \"Anaheim\", \"ll\": [ 33.816101, -117.979401 ] }\\n'"
      ]
     },
     "execution_count": 2,
     "metadata": {},
     "output_type": "execute_result"
    }
   ],
   "source": [
    "open(\"usagov_bitly_data2013-05-17-1368832207\").readline()"
   ]
  },
  {
   "cell_type": "code",
   "execution_count": 4,
   "metadata": {},
   "outputs": [],
   "source": [
    "import json\n",
    "#record=[json.load(line) for line in open(\"usagov_bitly_data2013-05-17-1368832207\")]"
   ]
  },
  {
   "cell_type": "code",
   "execution_count": 5,
   "metadata": {},
   "outputs": [],
   "source": [
    "records=[json.loads(line) for line in open(\"usagov_bitly_data2013-05-17-1368832207\")]"
   ]
  },
  {
   "cell_type": "code",
   "execution_count": 6,
   "metadata": {},
   "outputs": [
    {
     "data": {
      "text/plain": [
       "{'a': 'Mozilla/5.0 (Linux; U; Android 4.1.2; en-us; HTC_PN071 Build/JZO54K) AppleWebKit/534.30 (KHTML, like Gecko) Version/4.0 Mobile Safari/534.30',\n",
       " 'c': 'US',\n",
       " 'nk': 0,\n",
       " 'tz': 'America/Los_Angeles',\n",
       " 'gr': 'CA',\n",
       " 'g': '15r91',\n",
       " 'h': '10OBm3W',\n",
       " 'l': 'pontifier',\n",
       " 'al': 'en-US',\n",
       " 'hh': 'j.mp',\n",
       " 'r': 'direct',\n",
       " 'u': 'http://www.nsa.gov/',\n",
       " 't': 1368832205,\n",
       " 'hc': 1365701422,\n",
       " 'cy': 'Anaheim',\n",
       " 'll': [33.816101, -117.979401]}"
      ]
     },
     "execution_count": 6,
     "metadata": {},
     "output_type": "execute_result"
    }
   ],
   "source": [
    "records[0]"
   ]
  },
  {
   "cell_type": "code",
   "execution_count": 7,
   "metadata": {},
   "outputs": [
    {
     "data": {
      "text/plain": [
       "'America/Los_Angeles'"
      ]
     },
     "execution_count": 7,
     "metadata": {},
     "output_type": "execute_result"
    }
   ],
   "source": [
    " records[0]['tz']\n"
   ]
  },
  {
   "cell_type": "code",
   "execution_count": 8,
   "metadata": {},
   "outputs": [
    {
     "name": "stdout",
     "output_type": "stream",
     "text": [
      "America/Los_Angeles\n"
     ]
    }
   ],
   "source": [
    "print(records[0]['tz'])"
   ]
  },
  {
   "cell_type": "code",
   "execution_count": 9,
   "metadata": {},
   "outputs": [
    {
     "ename": "KeyError",
     "evalue": "'tz'",
     "output_type": "error",
     "traceback": [
      "\u001b[1;31m---------------------------------------------------------------------------\u001b[0m",
      "\u001b[1;31mKeyError\u001b[0m                                  Traceback (most recent call last)",
      "\u001b[1;32m<ipython-input-9-f3fbbc37f129>\u001b[0m in \u001b[0;36m<module>\u001b[1;34m\u001b[0m\n\u001b[1;32m----> 1\u001b[1;33m \u001b[0mtime_zones\u001b[0m \u001b[1;33m=\u001b[0m \u001b[1;33m[\u001b[0m\u001b[0mrec\u001b[0m\u001b[1;33m[\u001b[0m\u001b[1;34m'tz'\u001b[0m\u001b[1;33m]\u001b[0m \u001b[1;32mfor\u001b[0m \u001b[0mrec\u001b[0m \u001b[1;32min\u001b[0m \u001b[0mrecords\u001b[0m\u001b[1;33m]\u001b[0m\u001b[1;33m\u001b[0m\u001b[1;33m\u001b[0m\u001b[0m\n\u001b[0m",
      "\u001b[1;32m<ipython-input-9-f3fbbc37f129>\u001b[0m in \u001b[0;36m<listcomp>\u001b[1;34m(.0)\u001b[0m\n\u001b[1;32m----> 1\u001b[1;33m \u001b[0mtime_zones\u001b[0m \u001b[1;33m=\u001b[0m \u001b[1;33m[\u001b[0m\u001b[0mrec\u001b[0m\u001b[1;33m[\u001b[0m\u001b[1;34m'tz'\u001b[0m\u001b[1;33m]\u001b[0m \u001b[1;32mfor\u001b[0m \u001b[0mrec\u001b[0m \u001b[1;32min\u001b[0m \u001b[0mrecords\u001b[0m\u001b[1;33m]\u001b[0m\u001b[1;33m\u001b[0m\u001b[1;33m\u001b[0m\u001b[0m\n\u001b[0m",
      "\u001b[1;31mKeyError\u001b[0m: 'tz'"
     ]
    }
   ],
   "source": [
    " time_zones = [rec['tz'] for rec in records]"
   ]
  },
  {
   "cell_type": "code",
   "execution_count": 10,
   "metadata": {},
   "outputs": [],
   "source": [
    " time_zones = [rec['tz'] for rec in records if 'tz' in rec]"
   ]
  },
  {
   "cell_type": "code",
   "execution_count": 11,
   "metadata": {},
   "outputs": [
    {
     "data": {
      "text/plain": [
       "['America/Los_Angeles',\n",
       " '',\n",
       " 'America/Phoenix',\n",
       " 'America/Chicago',\n",
       " '',\n",
       " 'America/Indianapolis',\n",
       " 'America/Chicago',\n",
       " '',\n",
       " 'Australia/NSW',\n",
       " '']"
      ]
     },
     "execution_count": 11,
     "metadata": {},
     "output_type": "execute_result"
    }
   ],
   "source": [
    "time_zones[:10]"
   ]
  },
  {
   "cell_type": "code",
   "execution_count": 19,
   "metadata": {},
   "outputs": [],
   "source": [
    "def get_counts(sequence):\n",
    "    counts={}\n",
    "    for x in sequence:\n",
    "        if x in counts:\n",
    "            counts[x]+=1\n",
    "        else:\n",
    "            counts[x]=1\n",
    "    return counts"
   ]
  },
  {
   "cell_type": "code",
   "execution_count": 14,
   "metadata": {},
   "outputs": [
    {
     "data": {
      "text/plain": [
       "True"
      ]
     },
     "execution_count": 14,
     "metadata": {},
     "output_type": "execute_result"
    }
   ],
   "source": [
    "z=set('abc$de')\n",
    "'a' in z"
   ]
  },
  {
   "cell_type": "code",
   "execution_count": 17,
   "metadata": {},
   "outputs": [],
   "source": [
    "from collections import defaultdict\n",
    "def get_counts2(sequence):\n",
    "    counts = defaultdict(int) # values will initialize to 0\n",
    "    for x in sequence:\n",
    "        counts[x] += 1\n",
    "    return counts"
   ]
  },
  {
   "cell_type": "code",
   "execution_count": 21,
   "metadata": {},
   "outputs": [
    {
     "data": {
      "text/plain": [
       "{'America/Los_Angeles': 421,\n",
       " '': 636,\n",
       " 'America/Phoenix': 40,\n",
       " 'America/Chicago': 686,\n",
       " 'America/Indianapolis': 50,\n",
       " 'Australia/NSW': 32,\n",
       " 'America/New_York': 903,\n",
       " 'America/Denver': 89,\n",
       " 'America/Port_of_Spain': 1,\n",
       " 'America/Vancouver': 23,\n",
       " 'America/Puerto_Rico': 184,\n",
       " 'Europe/London': 85,\n",
       " 'Asia/Tokyo': 102,\n",
       " 'Europe/Amsterdam': 15,\n",
       " 'Europe/Vienna': 6,\n",
       " 'Pacific/Auckland': 9,\n",
       " 'America/Rainy_River': 33,\n",
       " 'Asia/Manila': 4,\n",
       " 'Europe/Madrid': 21,\n",
       " 'Europe/Rome': 19,\n",
       " 'Europe/Paris': 27,\n",
       " 'Europe/Berlin': 24,\n",
       " 'Europe/Moscow': 35,\n",
       " 'America/Montevideo': 3,\n",
       " 'Pacific/Honolulu': 12,\n",
       " 'Europe/Bratislava': 3,\n",
       " 'Europe/Skopje': 1,\n",
       " 'Asia/Karachi': 1,\n",
       " 'America/La_Paz': 4,\n",
       " 'Chile/Continental': 16,\n",
       " 'Europe/Sofia': 1,\n",
       " 'Europe/Stockholm': 4,\n",
       " 'Asia/Seoul': 3,\n",
       " 'Australia/West': 9,\n",
       " 'Europe/Dublin': 9,\n",
       " 'America/Bogota': 16,\n",
       " 'America/Montreal': 8,\n",
       " 'America/Mexico_City': 22,\n",
       " 'Asia/Jerusalem': 1,\n",
       " 'America/Sao_Paulo': 29,\n",
       " 'Asia/Dubai': 1,\n",
       " 'Africa/Ceuta': 6,\n",
       " 'Asia/Pontianak': 1,\n",
       " 'Australia/Victoria': 23,\n",
       " 'America/Argentina/Buenos_Aires': 11,\n",
       " 'Asia/Riyadh': 5,\n",
       " 'Asia/Calcutta': 6,\n",
       " 'Australia/Queensland': 10,\n",
       " 'Europe/Bucharest': 3,\n",
       " 'America/St_Lucia': 1,\n",
       " 'Europe/Lisbon': 8,\n",
       " 'Africa/Johannesburg': 2,\n",
       " 'America/Nassau': 1,\n",
       " 'Australia/South': 4,\n",
       " 'America/Costa_Rica': 6,\n",
       " 'Australia/Canberra': 7,\n",
       " 'Europe/Brussels': 14,\n",
       " 'America/Halifax': 7,\n",
       " 'Asia/Singapore': 4,\n",
       " 'America/Argentina/Catamarca': 1,\n",
       " 'America/Regina': 3,\n",
       " 'America/Panama': 2,\n",
       " 'America/Argentina/Cordoba': 2,\n",
       " 'America/Anchorage': 8,\n",
       " 'America/El_Salvador': 2,\n",
       " 'America/Edmonton': 9,\n",
       " 'Europe/Zaporozhye': 1,\n",
       " 'America/Caracas': 13,\n",
       " 'Europe/Zurich': 5,\n",
       " 'Asia/Kuala_Lumpur': 3,\n",
       " 'America/Tijuana': 1,\n",
       " 'Asia/Jakarta': 4,\n",
       " 'Africa/Cairo': 3,\n",
       " 'Africa/Gaborone': 1,\n",
       " 'America/Asuncion': 1,\n",
       " 'Europe/Tallinn': 1,\n",
       " 'Asia/Istanbul': 5,\n",
       " 'Asia/Bangkok': 3,\n",
       " 'Asia/Novokuznetsk': 1,\n",
       " 'Europe/Ljubljana': 1,\n",
       " 'America/Manaus': 2,\n",
       " 'Asia/Harbin': 4,\n",
       " 'Europe/Copenhagen': 4,\n",
       " 'Asia/Yekaterinburg': 2,\n",
       " 'Asia/Hong_Kong': 5,\n",
       " 'Europe/Warsaw': 2,\n",
       " 'Europe/Oslo': 3,\n",
       " 'America/Monterrey': 4,\n",
       " 'America/Winnipeg': 4,\n",
       " 'Asia/Amman': 1,\n",
       " 'Asia/Taipei': 1,\n",
       " 'America/Guayaquil': 4,\n",
       " 'Australia/Tasmania': 1,\n",
       " 'Asia/Vladivostok': 1,\n",
       " 'America/St_Johns': 1,\n",
       " 'Europe/Samara': 2,\n",
       " 'America/Managua': 3,\n",
       " 'Europe/Prague': 1,\n",
       " 'America/Santo_Domingo': 4,\n",
       " 'America/Mazatlan': 2,\n",
       " 'Africa/Casablanca': 1,\n",
       " 'America/Guadeloupe': 1,\n",
       " 'Europe/Jersey': 1,\n",
       " 'America/Jamaica': 1,\n",
       " 'Atlantic/Reykjavik': 1,\n",
       " 'Europe/Athens': 1,\n",
       " 'Europe/Riga': 1,\n",
       " 'Asia/Qatar': 1,\n",
       " 'Asia/Phnom_Penh': 1,\n",
       " 'Asia/Kuching': 1,\n",
       " 'Europe/Sarajevo': 1}"
      ]
     },
     "execution_count": 21,
     "metadata": {},
     "output_type": "execute_result"
    }
   ],
   "source": [
    "counts = get_counts(time_zones)\n",
    "counts"
   ]
  },
  {
   "cell_type": "code",
   "execution_count": 22,
   "metadata": {},
   "outputs": [
    {
     "data": {
      "text/plain": [
       "903"
      ]
     },
     "execution_count": 22,
     "metadata": {},
     "output_type": "execute_result"
    }
   ],
   "source": [
    " counts['America/New_York']"
   ]
  },
  {
   "cell_type": "code",
   "execution_count": 23,
   "metadata": {},
   "outputs": [
    {
     "data": {
      "text/plain": [
       "3839"
      ]
     },
     "execution_count": 23,
     "metadata": {},
     "output_type": "execute_result"
    }
   ],
   "source": [
    " len(time_zones)\n"
   ]
  },
  {
   "cell_type": "code",
   "execution_count": 24,
   "metadata": {},
   "outputs": [],
   "source": [
    "def top_counts(count_dict, n=10):\n",
    "    value_key_pairs = [(count, tz) for tz, count in count_dict.items()]\n",
    "    value_key_pairs.sort()\n",
    "    return value_key_pairs[-n:]"
   ]
  },
  {
   "cell_type": "code",
   "execution_count": 25,
   "metadata": {},
   "outputs": [
    {
     "data": {
      "text/plain": [
       "[(40, 'America/Phoenix'),\n",
       " (50, 'America/Indianapolis'),\n",
       " (85, 'Europe/London'),\n",
       " (89, 'America/Denver'),\n",
       " (102, 'Asia/Tokyo'),\n",
       " (184, 'America/Puerto_Rico'),\n",
       " (421, 'America/Los_Angeles'),\n",
       " (636, ''),\n",
       " (686, 'America/Chicago'),\n",
       " (903, 'America/New_York')]"
      ]
     },
     "execution_count": 25,
     "metadata": {},
     "output_type": "execute_result"
    }
   ],
   "source": [
    " top_counts(counts)"
   ]
  },
  {
   "cell_type": "code",
   "execution_count": 26,
   "metadata": {},
   "outputs": [],
   "source": [
    "from collections import Counter\n",
    "counts = Counter(time_zones)\n"
   ]
  },
  {
   "cell_type": "code",
   "execution_count": 27,
   "metadata": {},
   "outputs": [
    {
     "data": {
      "text/plain": [
       "[('America/New_York', 903),\n",
       " ('America/Chicago', 686),\n",
       " ('', 636),\n",
       " ('America/Los_Angeles', 421),\n",
       " ('America/Puerto_Rico', 184),\n",
       " ('Asia/Tokyo', 102),\n",
       " ('America/Denver', 89),\n",
       " ('Europe/London', 85),\n",
       " ('America/Indianapolis', 50),\n",
       " ('America/Phoenix', 40)]"
      ]
     },
     "execution_count": 27,
     "metadata": {},
     "output_type": "execute_result"
    }
   ],
   "source": [
    "counts.most_common(10)"
   ]
  },
  {
   "cell_type": "code",
   "execution_count": 29,
   "metadata": {},
   "outputs": [],
   "source": [
    "from pandas import DataFrame , Series\n",
    "import pandas as pd"
   ]
  },
  {
   "cell_type": "code",
   "execution_count": 31,
   "metadata": {},
   "outputs": [
    {
     "name": "stdout",
     "output_type": "stream",
     "text": [
      "<class 'pandas.core.frame.DataFrame'>\n",
      "RangeIndex: 3959 entries, 0 to 3958\n",
      "Data columns (total 18 columns):\n",
      "_heartbeat_    120 non-null float64\n",
      "a              3839 non-null object\n",
      "al             3444 non-null object\n",
      "c              3208 non-null object\n",
      "cy             3208 non-null object\n",
      "g              3839 non-null object\n",
      "gr             3208 non-null object\n",
      "h              3839 non-null object\n",
      "hc             3839 non-null float64\n",
      "hh             3839 non-null object\n",
      "kw             86 non-null object\n",
      "l              3839 non-null object\n",
      "ll             3204 non-null object\n",
      "nk             3839 non-null float64\n",
      "r              3839 non-null object\n",
      "t              3839 non-null float64\n",
      "tz             3839 non-null object\n",
      "u              3839 non-null object\n",
      "dtypes: float64(4), object(14)\n",
      "memory usage: 556.8+ KB\n"
     ]
    }
   ],
   "source": [
    "frame=DataFrame(records)\n",
    "frame.info()"
   ]
  },
  {
   "cell_type": "code",
   "execution_count": 32,
   "metadata": {},
   "outputs": [
    {
     "data": {
      "text/plain": [
       "0     America/Los_Angeles\n",
       "1                        \n",
       "2         America/Phoenix\n",
       "3         America/Chicago\n",
       "4                        \n",
       "5    America/Indianapolis\n",
       "6         America/Chicago\n",
       "7                        \n",
       "8           Australia/NSW\n",
       "9                        \n",
       "Name: tz, dtype: object"
      ]
     },
     "execution_count": 32,
     "metadata": {},
     "output_type": "execute_result"
    }
   ],
   "source": [
    "frame['tz'][:10]"
   ]
  },
  {
   "cell_type": "code",
   "execution_count": 33,
   "metadata": {},
   "outputs": [],
   "source": [
    "tz_counts = frame['tz'].value_counts()"
   ]
  },
  {
   "cell_type": "code",
   "execution_count": 34,
   "metadata": {},
   "outputs": [
    {
     "data": {
      "text/plain": [
       "America/New_York        903\n",
       "America/Chicago         686\n",
       "                        636\n",
       "America/Los_Angeles     421\n",
       "America/Puerto_Rico     184\n",
       "Asia/Tokyo              102\n",
       "America/Denver           89\n",
       "Europe/London            85\n",
       "America/Indianapolis     50\n",
       "America/Phoenix          40\n",
       "Name: tz, dtype: int64"
      ]
     },
     "execution_count": 34,
     "metadata": {},
     "output_type": "execute_result"
    }
   ],
   "source": [
    "tz_counts[:10]"
   ]
  },
  {
   "cell_type": "code",
   "execution_count": 35,
   "metadata": {},
   "outputs": [
    {
     "data": {
      "text/plain": [
       "America/New_York        903\n",
       "America/Chicago         686\n",
       "                        636\n",
       "America/Los_Angeles     421\n",
       "America/Puerto_Rico     184\n",
       "Asia/Tokyo              102\n",
       "America/Denver           89\n",
       "Europe/London            85\n",
       "America/Indianapolis     50\n",
       "America/Phoenix          40\n",
       "Name: tz, dtype: int64"
      ]
     },
     "execution_count": 35,
     "metadata": {},
     "output_type": "execute_result"
    }
   ],
   "source": [
    "clean_tz = frame['tz'].fillna('Missing')\n",
    "clean_tz[clean_tz == ''] = 'Unknown'\n",
    "tz_counts[:10]\n"
   ]
  },
  {
   "cell_type": "code",
   "execution_count": 36,
   "metadata": {},
   "outputs": [
    {
     "data": {
      "text/plain": [
       "<matplotlib.axes._subplots.AxesSubplot at 0x185bda74c18>"
      ]
     },
     "execution_count": 36,
     "metadata": {},
     "output_type": "execute_result"
    }
   ],
   "source": [
    "tz_counts[:10].plot(kind='barh', rot=0)"
   ]
  },
  {
   "cell_type": "code",
   "execution_count": 37,
   "metadata": {},
   "outputs": [
    {
     "data": {
      "text/plain": [
       "'Mozilla/4.0 (compatible; MSIE 7.0; Windows NT 5.1; .NET CLR 1.1.4322; .NET CLR 2.0.50727; .NET CLR 3.0.04506.30; .NET CLR 3.0.4506.2152; .NET CLR 3.5.30729; MDDR)'"
      ]
     },
     "execution_count": 37,
     "metadata": {},
     "output_type": "execute_result"
    }
   ],
   "source": [
    "frame['a'][1]"
   ]
  },
  {
   "cell_type": "code",
   "execution_count": 38,
   "metadata": {},
   "outputs": [
    {
     "data": {
      "text/plain": [
       "'Mozilla/5.0 (iPhone; CPU iPhone OS 6_1_3 like Mac OS X) AppleWebKit/536.26 (KHTML, like Gecko) Mobile/10B329'"
      ]
     },
     "execution_count": 38,
     "metadata": {},
     "output_type": "execute_result"
    }
   ],
   "source": [
    "frame['a'][50]"
   ]
  },
  {
   "cell_type": "code",
   "execution_count": 39,
   "metadata": {},
   "outputs": [
    {
     "data": {
      "text/plain": [
       "'Mozilla/5.0 (iPhone; CPU iPhone OS 6_1_3 like Mac OS X) AppleWebKit/536.26 (KHTML, like Gecko) Mobile/10B329'"
      ]
     },
     "execution_count": 39,
     "metadata": {},
     "output_type": "execute_result"
    }
   ],
   "source": [
    "frame['a'][51]"
   ]
  },
  {
   "cell_type": "code",
   "execution_count": 40,
   "metadata": {},
   "outputs": [],
   "source": [
    "results = Series([x.split()[0] for x in frame.a.dropna()])"
   ]
  },
  {
   "cell_type": "code",
   "execution_count": 41,
   "metadata": {},
   "outputs": [
    {
     "data": {
      "text/plain": [
       "0    Mozilla/5.0\n",
       "1    Mozilla/4.0\n",
       "2    Mozilla/5.0\n",
       "3    Mozilla/5.0\n",
       "4     Opera/9.80\n",
       "dtype: object"
      ]
     },
     "execution_count": 41,
     "metadata": {},
     "output_type": "execute_result"
    }
   ],
   "source": [
    "results[:5]"
   ]
  },
  {
   "cell_type": "code",
   "execution_count": 42,
   "metadata": {},
   "outputs": [
    {
     "data": {
      "text/plain": [
       "Mozilla/5.0           3251\n",
       "Mozilla/4.0            322\n",
       "CakePHP                 38\n",
       "ShortLinkTranslate      36\n",
       "TVersity                30\n",
       "Opera/9.80              28\n",
       "Dalvik/1.6.0            19\n",
       "Xenu                    15\n",
       "dtype: int64"
      ]
     },
     "execution_count": 42,
     "metadata": {},
     "output_type": "execute_result"
    }
   ],
   "source": [
    " results.value_counts()[:8]\n"
   ]
  },
  {
   "cell_type": "code",
   "execution_count": 43,
   "metadata": {},
   "outputs": [],
   "source": [
    " cframe = frame[frame.a.notnull()]"
   ]
  },
  {
   "cell_type": "code",
   "execution_count": 46,
   "metadata": {},
   "outputs": [],
   "source": [
    "operating_system = np.where(cframe['a'].str.contains('Windows'),'Windows', 'Not Windows')"
   ]
  },
  {
   "cell_type": "code",
   "execution_count": 47,
   "metadata": {},
   "outputs": [
    {
     "data": {
      "text/plain": [
       "array(['Not Windows', 'Windows', 'Windows', 'Not Windows', 'Not Windows'],\n",
       "      dtype='<U11')"
      ]
     },
     "execution_count": 47,
     "metadata": {},
     "output_type": "execute_result"
    }
   ],
   "source": [
    "operating_system[:5]"
   ]
  },
  {
   "cell_type": "code",
   "execution_count": 48,
   "metadata": {},
   "outputs": [],
   "source": [
    "by_tz_os = cframe.groupby(['tz', operating_system])"
   ]
  },
  {
   "cell_type": "code",
   "execution_count": 49,
   "metadata": {},
   "outputs": [],
   "source": [
    "agg_counts = by_tz_os.size().unstack().fillna(0)"
   ]
  },
  {
   "cell_type": "code",
   "execution_count": 50,
   "metadata": {},
   "outputs": [
    {
     "data": {
      "text/html": [
       "<div>\n",
       "<style scoped>\n",
       "    .dataframe tbody tr th:only-of-type {\n",
       "        vertical-align: middle;\n",
       "    }\n",
       "\n",
       "    .dataframe tbody tr th {\n",
       "        vertical-align: top;\n",
       "    }\n",
       "\n",
       "    .dataframe thead th {\n",
       "        text-align: right;\n",
       "    }\n",
       "</style>\n",
       "<table border=\"1\" class=\"dataframe\">\n",
       "  <thead>\n",
       "    <tr style=\"text-align: right;\">\n",
       "      <th></th>\n",
       "      <th>Not Windows</th>\n",
       "      <th>Windows</th>\n",
       "    </tr>\n",
       "    <tr>\n",
       "      <th>tz</th>\n",
       "      <th></th>\n",
       "      <th></th>\n",
       "    </tr>\n",
       "  </thead>\n",
       "  <tbody>\n",
       "    <tr>\n",
       "      <th></th>\n",
       "      <td>484.0</td>\n",
       "      <td>152.0</td>\n",
       "    </tr>\n",
       "    <tr>\n",
       "      <th>Africa/Cairo</th>\n",
       "      <td>0.0</td>\n",
       "      <td>3.0</td>\n",
       "    </tr>\n",
       "    <tr>\n",
       "      <th>Africa/Casablanca</th>\n",
       "      <td>0.0</td>\n",
       "      <td>1.0</td>\n",
       "    </tr>\n",
       "    <tr>\n",
       "      <th>Africa/Ceuta</th>\n",
       "      <td>4.0</td>\n",
       "      <td>2.0</td>\n",
       "    </tr>\n",
       "    <tr>\n",
       "      <th>Africa/Gaborone</th>\n",
       "      <td>0.0</td>\n",
       "      <td>1.0</td>\n",
       "    </tr>\n",
       "    <tr>\n",
       "      <th>Africa/Johannesburg</th>\n",
       "      <td>2.0</td>\n",
       "      <td>0.0</td>\n",
       "    </tr>\n",
       "    <tr>\n",
       "      <th>America/Anchorage</th>\n",
       "      <td>5.0</td>\n",
       "      <td>3.0</td>\n",
       "    </tr>\n",
       "    <tr>\n",
       "      <th>America/Argentina/Buenos_Aires</th>\n",
       "      <td>4.0</td>\n",
       "      <td>7.0</td>\n",
       "    </tr>\n",
       "    <tr>\n",
       "      <th>America/Argentina/Catamarca</th>\n",
       "      <td>1.0</td>\n",
       "      <td>0.0</td>\n",
       "    </tr>\n",
       "    <tr>\n",
       "      <th>America/Argentina/Cordoba</th>\n",
       "      <td>0.0</td>\n",
       "      <td>2.0</td>\n",
       "    </tr>\n",
       "  </tbody>\n",
       "</table>\n",
       "</div>"
      ],
      "text/plain": [
       "                                Not Windows  Windows\n",
       "tz                                                  \n",
       "                                      484.0    152.0\n",
       "Africa/Cairo                            0.0      3.0\n",
       "Africa/Casablanca                       0.0      1.0\n",
       "Africa/Ceuta                            4.0      2.0\n",
       "Africa/Gaborone                         0.0      1.0\n",
       "Africa/Johannesburg                     2.0      0.0\n",
       "America/Anchorage                       5.0      3.0\n",
       "America/Argentina/Buenos_Aires          4.0      7.0\n",
       "America/Argentina/Catamarca             1.0      0.0\n",
       "America/Argentina/Cordoba               0.0      2.0"
      ]
     },
     "execution_count": 50,
     "metadata": {},
     "output_type": "execute_result"
    }
   ],
   "source": [
    "agg_counts[:10]"
   ]
  },
  {
   "cell_type": "code",
   "execution_count": 51,
   "metadata": {},
   "outputs": [],
   "source": [
    " indexer = agg_counts.sum(1).argsort()"
   ]
  },
  {
   "cell_type": "code",
   "execution_count": 52,
   "metadata": {},
   "outputs": [
    {
     "data": {
      "text/plain": [
       "tz\n",
       "                                   55\n",
       "Africa/Cairo                      101\n",
       "Africa/Casablanca                 100\n",
       "Africa/Ceuta                       36\n",
       "Africa/Gaborone                    97\n",
       "Africa/Johannesburg                42\n",
       "America/Anchorage                  43\n",
       "America/Argentina/Buenos_Aires     44\n",
       "America/Argentina/Catamarca        47\n",
       "America/Argentina/Cordoba          50\n",
       "dtype: int64"
      ]
     },
     "execution_count": 52,
     "metadata": {},
     "output_type": "execute_result"
    }
   ],
   "source": [
    "indexer[:10]"
   ]
  },
  {
   "cell_type": "code",
   "execution_count": 53,
   "metadata": {},
   "outputs": [],
   "source": [
    " count_subset = agg_counts.take(indexer)[-10:]"
   ]
  },
  {
   "cell_type": "code",
   "execution_count": 54,
   "metadata": {},
   "outputs": [
    {
     "data": {
      "text/html": [
       "<div>\n",
       "<style scoped>\n",
       "    .dataframe tbody tr th:only-of-type {\n",
       "        vertical-align: middle;\n",
       "    }\n",
       "\n",
       "    .dataframe tbody tr th {\n",
       "        vertical-align: top;\n",
       "    }\n",
       "\n",
       "    .dataframe thead th {\n",
       "        text-align: right;\n",
       "    }\n",
       "</style>\n",
       "<table border=\"1\" class=\"dataframe\">\n",
       "  <thead>\n",
       "    <tr style=\"text-align: right;\">\n",
       "      <th></th>\n",
       "      <th>Not Windows</th>\n",
       "      <th>Windows</th>\n",
       "    </tr>\n",
       "    <tr>\n",
       "      <th>tz</th>\n",
       "      <th></th>\n",
       "      <th></th>\n",
       "    </tr>\n",
       "  </thead>\n",
       "  <tbody>\n",
       "    <tr>\n",
       "      <th>America/Phoenix</th>\n",
       "      <td>22.0</td>\n",
       "      <td>18.0</td>\n",
       "    </tr>\n",
       "    <tr>\n",
       "      <th>America/Indianapolis</th>\n",
       "      <td>29.0</td>\n",
       "      <td>21.0</td>\n",
       "    </tr>\n",
       "    <tr>\n",
       "      <th>Europe/London</th>\n",
       "      <td>62.0</td>\n",
       "      <td>23.0</td>\n",
       "    </tr>\n",
       "    <tr>\n",
       "      <th>America/Denver</th>\n",
       "      <td>41.0</td>\n",
       "      <td>48.0</td>\n",
       "    </tr>\n",
       "    <tr>\n",
       "      <th>Asia/Tokyo</th>\n",
       "      <td>88.0</td>\n",
       "      <td>14.0</td>\n",
       "    </tr>\n",
       "    <tr>\n",
       "      <th>America/Puerto_Rico</th>\n",
       "      <td>93.0</td>\n",
       "      <td>91.0</td>\n",
       "    </tr>\n",
       "    <tr>\n",
       "      <th>America/Los_Angeles</th>\n",
       "      <td>207.0</td>\n",
       "      <td>214.0</td>\n",
       "    </tr>\n",
       "    <tr>\n",
       "      <th></th>\n",
       "      <td>484.0</td>\n",
       "      <td>152.0</td>\n",
       "    </tr>\n",
       "    <tr>\n",
       "      <th>America/Chicago</th>\n",
       "      <td>343.0</td>\n",
       "      <td>343.0</td>\n",
       "    </tr>\n",
       "    <tr>\n",
       "      <th>America/New_York</th>\n",
       "      <td>550.0</td>\n",
       "      <td>353.0</td>\n",
       "    </tr>\n",
       "  </tbody>\n",
       "</table>\n",
       "</div>"
      ],
      "text/plain": [
       "                      Not Windows  Windows\n",
       "tz                                        \n",
       "America/Phoenix              22.0     18.0\n",
       "America/Indianapolis         29.0     21.0\n",
       "Europe/London                62.0     23.0\n",
       "America/Denver               41.0     48.0\n",
       "Asia/Tokyo                   88.0     14.0\n",
       "America/Puerto_Rico          93.0     91.0\n",
       "America/Los_Angeles         207.0    214.0\n",
       "                            484.0    152.0\n",
       "America/Chicago             343.0    343.0\n",
       "America/New_York            550.0    353.0"
      ]
     },
     "execution_count": 54,
     "metadata": {},
     "output_type": "execute_result"
    }
   ],
   "source": [
    "count_subset[0:10]"
   ]
  },
  {
   "cell_type": "code",
   "execution_count": 56,
   "metadata": {},
   "outputs": [
    {
     "data": {
      "text/plain": [
       "<matplotlib.axes._subplots.AxesSubplot at 0x185bef3ed68>"
      ]
     },
     "execution_count": 56,
     "metadata": {},
     "output_type": "execute_result"
    },
    {
     "data": {
      "image/png": "[encoded data removed]",
      "text/plain": [
       "<Figure size 432x288 with 1 Axes>"
      ]
     },
     "metadata": {
      "needs_background": "light"
     },
     "output_type": "display_data"
    }
   ],
   "source": [
    "count_subset.plot(kind='barh', stacked=False)"
   ]
  },
  {
   "cell_type": "code",
   "execution_count": 57,
   "metadata": {},
   "outputs": [
    {
     "data": {
      "text/plain": [
       "<matplotlib.axes._subplots.AxesSubplot at 0x185bef63d30>"
      ]
     },
     "execution_count": 57,
     "metadata": {},
     "output_type": "execute_result"
    },
    {
     "data": {
      "image/png": "[encoded data removed]",
      "text/plain": [
       "<Figure size 432x288 with 1 Axes>"
      ]
     },
     "metadata": {
      "needs_background": "light"
     },
     "output_type": "display_data"
    }
   ],
   "source": [
    "count_subset.plot(kind='barh', stacked=True)"
   ]
  },
  {
   "cell_type": "code",
   "execution_count": 58,
   "metadata": {},
   "outputs": [],
   "source": [
    "normed_subset = count_subset.div(count_subset.sum(1), axis=0)"
   ]
  },
  {
   "cell_type": "code",
   "execution_count": 59,
   "metadata": {},
   "outputs": [
    {
     "data": {
      "text/plain": [
       "<matplotlib.axes._subplots.AxesSubplot at 0x185befc7fd0>"
      ]
     },
     "execution_count": 59,
     "metadata": {},
     "output_type": "execute_result"
    },
    {
     "data": {
      "image/png": "[encoded data removed]",
      "text/plain": [
       "<Figure size 432x288 with 1 Axes>"
      ]
     },
     "metadata": {
      "needs_background": "light"
     },
     "output_type": "display_data"
    }
   ],
   "source": [
    "normed_subset.plot(kind='barh', stacked=True)"
   ]
  },
  {
   "cell_type": "code",
   "execution_count": null,
   "metadata": {},
   "outputs": [],
   "source": []
  }
 ],
 "metadata": {
  "kernelspec": {
   "display_name": "Python 3",
   "language": "python",
   "name": "python3"
  },
  "language_info": {
   "codemirror_mode": {
    "name": "ipython",
    "version": 3
   },
   "file_extension": ".py",
   "mimetype": "text/x-python",
   "name": "python",
   "nbconvert_exporter": "python",
   "pygments_lexer": "ipython3",
   "version": "3.7.3"
  }
 },
 "nbformat": 4,
 "nbformat_minor": 2
}
